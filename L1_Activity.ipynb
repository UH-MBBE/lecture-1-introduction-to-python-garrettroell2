{
 "cells": [
  {
   "cell_type": "markdown",
   "metadata": {},
   "source": [
    "# ACTIVITY 1: Variables\n",
    "\n",
    "In this first activity, you will practice using the Jupyter interface and manipulating Python variables. "
   ]
  },
  {
   "cell_type": "markdown",
   "metadata": {},
   "source": [
    "## Problem 1: Equations with variables\n",
    "\n",
    "You want to make 1 mL of a 20 mM solution of ATP. You have powdered ATP-disodium salt from Sigma, whose molecular weight is 551.1. How many mg of ATP do you need to add to 1 mL of water for a 20 mM solution? \n",
    "\n",
    "Instead of Googling 'molarity calculator', you decide to write your own calculator in Python. Checking Sigma's Mass Molarity Calculator page (https://www.sigmaaldrich.com/chemistry/stockroom-reagents/learning-center/technical-library/mass-molarity-calculator.html), you're reminded that the calculation you need is:\n",
    "\n",
    "`Mass (g) = Concentration (mol/L) * Volume (L) * Molecular Weight (g/mol)`\n",
    "\n",
    "In the cell below, assign the appropriate values to variables named `concentration`, `molecular_weight`, and `volume`. Then write a Python expression using these variables to calculate the mg ATP needed, and assign the answer to `mg_ATP`. Then, to see the answer print the variable `mg_ATP`.\n",
    "\n",
    "Remember your units! For example, `volume` should be 0.001 for 1 mL."
   ]
  },
  {
   "cell_type": "code",
   "execution_count": 6,
   "metadata": {},
   "outputs": [],
   "source": [
    "concentration = 0.020 #mol/L\n",
    "molecular_weight = 551.1 #g/mol\n",
    "volume = 0.001 #L\n",
    "\n",
    "# define mg_ATP here\n",
    "# Mass (g) = Concentration (mol/L) * Volume (L) * Molecular Weight (g/mol)\n",
    "mg_ATP = concentration * volume * molecular_weight\n",
    "\n"
   ]
  },
  {
   "cell_type": "code",
   "execution_count": 4,
   "metadata": {},
   "outputs": [],
   "source": [
    "# print(mg_ATP)\n",
    "mg_ATP = mg_ATP"
   ]
  },
  {
   "cell_type": "code",
   "execution_count": 7,
   "metadata": {},
   "outputs": [],
   "source": [
    "# Run this cell to check your answer. If your mg_ATP is correct, the cell will run without errors.\n",
    "# If it's incorrect, you'll get an error message.\n",
    "\n",
    "assert mg_ATP == 0.011022 #if you don't get anything in response, the values match. if the values don't match you'll get an error message"
   ]
  },
  {
   "cell_type": "markdown",
   "metadata": {},
   "source": [
    "Here are a few things to note about the code you wrote above:\n",
    "\n",
    "1. You defined a new variable (`mg_ATP`) in terms of other variables. This may seem obvious, but it's a useful principle: variables don't need to be directly assigned their values; they can be defined by operations on other variables. (What data type is `mg_ATP`? Did it inherit the data type of the variables defining it? You can check this using `type()`.)\n",
    "\n",
    "2. *Assignment* `=` is not the same as the mathematical equals sign. When you do a molarity calculation on paper, it doesn't matter whether you write the answer on the left or the right side of the equals sign. But in Python, the assigned variable always goes on the left, and the expression that determines its value goes on the right.\n",
    "\n"
   ]
  },
  {
   "cell_type": "markdown",
   "metadata": {},
   "source": [
    "## Problem 2: Variables from other variables are not dynamically updated\n",
    "\n",
    "This is critical: A variable whose value comes from other variables is **not** automatically updated if you change those other variables. \n",
    "\n",
    "For example, in **Problem 1** you created the variable `mg_ATP` by multiplying other variables. Python does the multiplcation once, and assigns the answer to `mg_ATP`. `mg_ATP` hold a single number, not an equation.\n",
    "\n",
    "To see this in action, try the following problem:\n",
    "\n",
    "You now need a 100 mM solution of ATP. In the cell below, change `concentration` to 0.1 (using the assinment operator again). Then use `print()` to show the value of `mg_ATP`. Did it change to the right amoung for a 100 mM solution? What would you have to do to get the right answer?"
   ]
  },
  {
   "cell_type": "code",
   "execution_count": 10,
   "metadata": {},
   "outputs": [],
   "source": [
    "concentration = 0.1 #mol/L\n",
    "\n",
    "# need to rerun this line to update the mg_ATP variable\n",
    "mg_ATP = concentration * volume * molecular_weight"
   ]
  },
  {
   "cell_type": "code",
   "execution_count": 11,
   "metadata": {},
   "outputs": [
    {
     "data": {
      "text/plain": [
       "0.055110000000000006"
      ]
     },
     "execution_count": 11,
     "metadata": {},
     "output_type": "execute_result"
    }
   ],
   "source": [
    "mg_ATP"
   ]
  },
  {
   "cell_type": "markdown",
   "metadata": {},
   "source": [
    "It will be critical in this course to remember that variables defined by other variables are not automatically updated. This can sometimes be challenging in Jupyter notebook, when cells can be run out of order. Remember, Python mainly stores a giant table of variable names and their values. It does not store the expressions used to create those values."
   ]
  },
  {
   "cell_type": "markdown",
   "metadata": {},
   "source": [
    "## Problem 3: Copying a variable\n",
    "\n",
    "In this problem, we'll see another case of non-updated variables.\n",
    "\n",
    "It's sometimes useful to make a copy of a variable by assigning that variable to a new one. What happens to the copy when you change the value of the original variable? As you might guess, the copy *is not updated*. (However, there are exceptions when it comes to more complex data types like lists. We'll get there soon.)\n",
    "\n",
    "To see this, make a copy of `mg_ATP` by assigning to a new variable, `mg_ATP_copy` in the cell below. Then use `print()` to display the value of both variables. When you execute the cell, you see that both variables have the same value.\n",
    "\n",
    "In the next cell cell, change the value of `mg_ATP` to `10000`, then print both variables again. What happened to `mg_ATP_copy` when the value of `mg_ATP\n",
    "` was changed?"
   ]
  },
  {
   "cell_type": "code",
   "execution_count": 12,
   "metadata": {},
   "outputs": [
    {
     "data": {
      "text/plain": [
       "0.055110000000000006"
      ]
     },
     "execution_count": 12,
     "metadata": {},
     "output_type": "execute_result"
    }
   ],
   "source": [
    "mg_ATP_copy = mg_ATP\n",
    "\n",
    "mg_ATP_copy"
   ]
  },
  {
   "cell_type": "code",
   "execution_count": 17,
   "metadata": {},
   "outputs": [],
   "source": [
    "mg_ATP = 10.1"
   ]
  },
  {
   "cell_type": "code",
   "execution_count": 14,
   "metadata": {},
   "outputs": [
    {
     "name": "stdout",
     "output_type": "stream",
     "text": [
      "10\n",
      "0.055110000000000006\n"
     ]
    }
   ],
   "source": [
    "print(mg_ATP)\n",
    "print(mg_ATP_copy)"
   ]
  },
  {
   "cell_type": "markdown",
   "metadata": {},
   "source": [
    "## Problem 4: Capturing the output of a function by assigning it to a variable.\n",
    "\n",
    "In this course we'll spend a lot of time working with and writing functions. Functions, like `type()` or `print()` take an input and return an output. That output can be \"captured\" by assigning it to another variable. In fact if you don't assign the output of a function to a variable, it is not stored anyway. The value may be displayed and then it vanishes from your computer's memory.\n",
    "\n",
    "This is a common way for code to fail in the homework for this class: you may write a function, but forget to assign the output to a variable, and then your code doesn't work.\n",
    "\n",
    "Use `type()` to determine the data type of `answer2`. *Assign* the result to `answer4`.\n",
    "\n",
    "Practice this idea in the cell below. Use `type()` to determine the data type of `mg_ATP`, and assign the output to a new variable (call it whatever you want). Then print the new variable to see the answer.\n",
    "\n",
    "(Try the same thing with `mg_ATP_copy`. Do you get the same data type? Why or why not?)"
   ]
  },
  {
   "cell_type": "code",
   "execution_count": 19,
   "metadata": {},
   "outputs": [
    {
     "data": {
      "text/plain": [
       "float"
      ]
     },
     "execution_count": 19,
     "metadata": {},
     "output_type": "execute_result"
    }
   ],
   "source": [
    "type_of_mg_ATP = type(mg_ATP)\n",
    "\n",
    "type_of_mg_ATP"
   ]
  },
  {
   "cell_type": "code",
   "execution_count": 18,
   "metadata": {},
   "outputs": [
    {
     "data": {
      "text/plain": [
       "float"
      ]
     },
     "execution_count": 18,
     "metadata": {},
     "output_type": "execute_result"
    }
   ],
   "source": [
    "type_of_mg_ATP = type(mg_ATP_copy)\n",
    "\n",
    "type_of_mg_ATP"
   ]
  },
  {
   "cell_type": "markdown",
   "metadata": {},
   "source": [
    "## Problem 5: Assigning multiple variables in one line\n",
    "\n",
    "More than one variable can be assigned at once. To do this, variable names are written to the left of the assignment operator (`=`), separated by commas. Values for those variables are written to the right of `=`, separated by commas.\n",
    "\n",
    "In the cell below, rewrite your code for **Problem 1** so that `concentration`, `volume`, and `molecular_weight` are all assgined on the same line. Then write the expression to calculate `mg_ATP` and print the result."
   ]
  },
  {
   "cell_type": "code",
   "execution_count": 20,
   "metadata": {},
   "outputs": [
    {
     "data": {
      "text/plain": [
       "0.011022"
      ]
     },
     "execution_count": 20,
     "metadata": {},
     "output_type": "execute_result"
    }
   ],
   "source": [
    "# concentration = 0.020 #mol/L\n",
    "# molecular_weight = 551.1 #g/mol\n",
    "# volume = 0.001 #L\n",
    "\n",
    "concentration, molecular_weight, volume = 0.020, 551.1, 0.001\n",
    "\n",
    "# define mg_ATP here\n",
    "# Mass (g) = Concentration (mol/L) * Volume (L) * Molecular Weight (g/mol)\n",
    "mg_ATP = concentration * volume * molecular_weight\n",
    "\n",
    "mg_ATP\n"
   ]
  }
 ],
 "metadata": {
  "kernelspec": {
   "display_name": "Python 3",
   "language": "python",
   "name": "python3"
  },
  "language_info": {
   "codemirror_mode": {
    "name": "ipython",
    "version": 3
   },
   "file_extension": ".py",
   "mimetype": "text/x-python",
   "name": "python",
   "nbconvert_exporter": "python",
   "pygments_lexer": "ipython3",
   "version": "3.10.13"
  }
 },
 "nbformat": 4,
 "nbformat_minor": 2
}
